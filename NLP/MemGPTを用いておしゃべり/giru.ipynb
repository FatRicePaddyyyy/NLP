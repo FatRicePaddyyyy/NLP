{
 "cells": [
  {
   "cell_type": "markdown",
   "metadata": {},
   "source": [
    "# VOICEBOXAPIを呼び出すためのコード"
   ]
  },
  {
   "cell_type": "code",
   "execution_count": null,
   "metadata": {},
   "outputs": [],
   "source": [
    "import json\n",
    "import requests\n",
    "import simpleaudio as sa\n",
    "import io\n",
    "import wave\n",
    "\n",
    "def generate_and_play_wav(text, speaker=1):\n",
    "    host = 'localhost'\n",
    "    port = 50021\n",
    "    params = (\n",
    "        ('text', text),\n",
    "        ('speaker', speaker),\n",
    "    )\n",
    "\n",
    "    # 音声合成のためのクエリを送信\n",
    "    response1 = requests.post(\n",
    "        f'http://{host}:{port}/audio_query',\n",
    "        params=params\n",
    "    )\n",
    "\n",
    "    headers = {'Content-Type': 'application/json',}\n",
    "\n",
    "    # 合成された音声データを取得\n",
    "    response2 = requests.post(\n",
    "        f'http://{host}:{port}/synthesis',\n",
    "        headers=headers,\n",
    "        params=params,\n",
    "        data=json.dumps(response1.json())\n",
    "    )\n",
    "\n",
    "    # バイナリデータをwaveオブジェクトとして読み込む\n",
    "    with io.BytesIO(response2.content) as audio_io:\n",
    "        with wave.open(audio_io, 'rb') as wave_read:\n",
    "            # simpleaudioで再生可能なオーディオオブジェクトを生成\n",
    "            audio_data = wave_read.readframes(wave_read.getnframes())\n",
    "            wave_obj = sa.WaveObject(audio_data, wave_read.getnchannels(), wave_read.getsampwidth(), wave_read.getframerate())\n",
    "\n",
    "    # WAVファイル再生部分\n",
    "    play_obj = wave_obj.play()\n",
    "    play_obj.wait_done()  # 再生が完了するまで待つ"
   ]
  },
  {
   "cell_type": "markdown",
   "metadata": {},
   "source": [
    "# MeMGPTを呼び出す"
   ]
  },
  {
   "cell_type": "code",
   "execution_count": null,
   "metadata": {},
   "outputs": [],
   "source": [
    "import requests\n",
    "\n",
    "#url = \"http://localhost:8283/api/agents/9c8c4ec9-ab5c-4401-98ca-3cbdf1a98420/messages\"\n",
    "url = \"http://localhost:8283/api/agents/<agent_id>/messages\"\n",
    "\n",
    "payload = {\n",
    "    \"name\": \"aaaaaa\",\n",
    "    \"message\": \"自己紹して\"\n",
    "}\n",
    "headers = {\n",
    "    \"accept\": \"application/json\",\n",
    "    \"content-type\": \"application/json\",\n",
    "    \"authorization\": \"Bearer ilovellms\"\n",
    "}\n",
    "\n",
    "response = requests.post(url, json=payload, headers=headers)\n",
    "\n"
   ]
  },
  {
   "cell_type": "code",
   "execution_count": null,
   "metadata": {},
   "outputs": [
    {
     "data": {
      "text/plain": [
       "<Response [200]>"
      ]
     },
     "execution_count": 4,
     "metadata": {},
     "output_type": "execute_result"
    }
   ],
   "source": [
    "response"
   ]
  },
  {
   "cell_type": "code",
   "execution_count": null,
   "metadata": {},
   "outputs": [
    {
     "name": "stdout",
     "output_type": "stream",
     "text": [
      "再度我が名を呼びたいか？ならば、改めて紹介しよう。我はギルガメッシュ、英雄王である。人間と神の間の子で、他者がたどることのできない道を開いた英雄。ウルクの統治者で、文明の繁栄を見続けた者だ。我が存在が人間と世界の架け橋となる。忘れるな、貴様。\n"
     ]
    }
   ],
   "source": [
    "import json\n",
    "\n",
    "# response.text から得たJSON文字列\n",
    "\n",
    "# JSONデータを解析\n",
    "data = json.loads(response.text)\n",
    "\n",
    "# 'assistant_message' の値を取得\n",
    "for message in data['messages']:\n",
    "    if 'assistant_message' in message:\n",
    "        print(message['assistant_message'])\n",
    "        generate_and_play_wav(message['assistant_message'])"
   ]
  },
  {
   "cell_type": "markdown",
   "metadata": {},
   "source": [
    "# MemGPTを対話型で呼び出す"
   ]
  },
  {
   "cell_type": "code",
   "execution_count": null,
   "metadata": {},
   "outputs": [
    {
     "name": "stdout",
     "output_type": "stream",
     "text": [
      "アシスタントのメッセージ: うむ、理解したというのなら良い。だが、我の名を理解したら何だ。貴様もそれに見合った成果を示さねばならぬ。失礼を許さぬのだ、忘れるなよ。\n",
      "アシスタントのメッセージ: 私が男か女かと問いたいのか? 面白い質問だな。我は英雄王、ギルガメッシュだ。古代のメソポタミアを治めた統治者であり、人間と神の間の存在だ。男と見做されることが多いが、我を単純な性別で定義することはできぬ。我は我であることが重要だ。それが理解できるか、太田よ？\n",
      "プログラムを終了します。\n"
     ]
    }
   ],
   "source": [
    "import requests\n",
    "import json\n",
    "\n",
    "# APIエンドポイント\n",
    "#url = \"http://localhost:8283/api/agents/9c8c4ec9-ab5c-4401-98ca-3cbdf1a98420/messages\"\n",
    "url = \"http://localhost:8283/api/agents/<agent_id>/messages\"\n",
    "# ヘッダー情報\n",
    "headers = {\n",
    "    \"accept\": \"application/json\",\n",
    "    \"content-type\": \"application/json\",\n",
    "    \"authorization\": \"Bearer ilovellms\"\n",
    "}\n",
    "\n",
    "# ユーザー入力をループで処理\n",
    "while True:\n",
    "    user_input = input(\"メッセージを入力してください（終了するには '終了' と入力）: \")\n",
    "    \n",
    "    # 終了条件のチェック\n",
    "    if user_input.lower() == \"終了\":\n",
    "        print(\"プログラムを終了します。\")\n",
    "        break\n",
    "\n",
    "    # 送信するペイロード\n",
    "    payload = {\n",
    "        \"name\": \"aaaaaa\",\n",
    "        \"message\": user_input\n",
    "    }\n",
    "\n",
    "    # APIへのPOSTリクエスト\n",
    "    response = requests.post(url, json=payload, headers=headers)\n",
    "\n",
    "    # レスポンスがJSON形式と仮定して解析\n",
    "    if response.status_code == 200:\n",
    "        data = response.json()\n",
    "        # 'assistant_message' の値を取得して出力\n",
    "        for message in data['messages']:\n",
    "            if 'assistant_message' in message:\n",
    "                print(\"アシスタントのメッセージ:\", message['assistant_message'])\n",
    "                # 音声合成と再生の関数を呼び出す（関数の実装が必要）\n",
    "                generate_and_play_wav(message['assistant_message'])\n",
    "    else:\n",
    "        print(\"エラー:\", response.status_code, response.text)\n"
   ]
  }
 ],
 "metadata": {
  "kernelspec": {
   "display_name": "base",
   "language": "python",
   "name": "python3"
  },
  "language_info": {
   "codemirror_mode": {
    "name": "ipython",
    "version": 3
   },
   "file_extension": ".py",
   "mimetype": "text/x-python",
   "name": "python",
   "nbconvert_exporter": "python",
   "pygments_lexer": "ipython3",
   "version": "3.11.5"
  }
 },
 "nbformat": 4,
 "nbformat_minor": 2
}
