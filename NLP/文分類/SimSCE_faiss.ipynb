{
 "cells": [
  {
   "cell_type": "markdown",
   "metadata": {},
   "source": [
    "# ライブラリのインポート"
   ]
  },
  {
   "cell_type": "code",
   "execution_count": 1,
   "metadata": {},
   "outputs": [
    {
     "name": "stderr",
     "output_type": "stream",
     "text": [
      "/home/st6322011/anaconda3/envs/NLP/lib/python3.11/site-packages/sentence_transformers/cross_encoder/CrossEncoder.py:11: TqdmExperimentalWarning: Using `tqdm.autonotebook.tqdm` in notebook mode. Use `tqdm.tqdm` instead to force console mode (e.g. in jupyter console)\n",
      "  from tqdm.autonotebook import tqdm, trange\n",
      "2024-06-03 15:03:32.879757: I tensorflow/core/platform/cpu_feature_guard.cc:210] This TensorFlow binary is optimized to use available CPU instructions in performance-critical operations.\n",
      "To enable the following instructions: AVX2 FMA, in other operations, rebuild TensorFlow with the appropriate compiler flags.\n",
      "2024-06-03 15:03:35.197406: W tensorflow/compiler/tf2tensorrt/utils/py_utils.cc:38] TF-TRT Warning: Could not find TensorRT\n"
     ]
    }
   ],
   "source": [
    "from sentence_transformers import SentenceTransformer\n",
    "import numpy as np\n",
    "from datasets import load_dataset\n",
    "from datasets import load_from_disk\n",
    "import faiss"
   ]
  },
  {
   "cell_type": "markdown",
   "metadata": {},
   "source": [
    "# モデルのダウンロード"
   ]
  },
  {
   "cell_type": "code",
   "execution_count": 4,
   "metadata": {},
   "outputs": [
    {
     "name": "stderr",
     "output_type": "stream",
     "text": [
      "/home/st6322011/anaconda3/envs/NLP/lib/python3.11/site-packages/huggingface_hub/file_download.py:1132: FutureWarning: `resume_download` is deprecated and will be removed in version 1.0.0. Downloads always resume when possible. If you want to force a new download, use `force_download=True`.\n",
      "  warnings.warn(\n",
      "/home/st6322011/anaconda3/envs/NLP/lib/python3.11/site-packages/torch/_utils.py:776: UserWarning: TypedStorage is deprecated. It will be removed in the future and UntypedStorage will be the only storage class. This should only matter to you if you are using storages directly.  To access UntypedStorage directly, use tensor.untyped_storage() instead of tensor.storage()\n",
      "  return self.fget.__get__(instance, owner)()\n"
     ]
    }
   ],
   "source": [
    "device = \"cpu\"\n",
    "model = SentenceTransformer(\"cl-nagoya/sup-simcse-ja-base\", device=device)"
   ]
  },
  {
   "cell_type": "code",
   "execution_count": 55,
   "metadata": {},
   "outputs": [
    {
     "name": "stdout",
     "output_type": "stream",
     "text": [
      "[[ 0.90896523 -0.10347278  0.49861845 ... -0.07458906  0.8871121\n",
      "  -0.5814303 ]\n",
      " [ 1.1992244  -0.31974453 -0.3879857  ... -0.63752735  0.1330044\n",
      "  -0.17121182]\n",
      " [ 0.30453068  0.42420724 -0.50362414 ... -0.5128267  -0.11586949\n",
      "  -0.74181527]]\n"
     ]
    }
   ],
   "source": [
    "sentences = [\"こんにちは、世界！\", \"文埋め込み最高！文埋め込み最高と叫びなさい\", \"極度乾燥しなさい\"]\n",
    "results = model.encode(sentences)\n",
    "print(results)"
   ]
  },
  {
   "cell_type": "markdown",
   "metadata": {},
   "source": [
    "# データセットのダウンロードと前処理"
   ]
  },
  {
   "cell_type": "code",
   "execution_count": 56,
   "metadata": {},
   "outputs": [
    {
     "name": "stderr",
     "output_type": "stream",
     "text": [
      "/home/st6322011/anaconda3/envs/NLP/lib/python3.11/site-packages/datasets/load.py:1486: FutureWarning: The repository for graelo/wikipedia contains custom code which must be executed to correctly load the dataset. You can inspect the repository content at https://hf.co/datasets/graelo/wikipedia\n",
      "You can avoid this message in future by passing the argument `trust_remote_code=True`.\n",
      "Passing `trust_remote_code=True` will be mandatory to load this dataset from the next major release of `datasets`.\n",
      "  warnings.warn(\n"
     ]
    }
   ],
   "source": [
    "wiki = load_dataset(\"graelo/wikipedia\", \"20230901.ja\")"
   ]
  },
  {
   "cell_type": "code",
   "execution_count": 57,
   "metadata": {},
   "outputs": [
    {
     "data": {
      "text/plain": [
       "DatasetDict({\n",
       "    train: Dataset({\n",
       "        features: ['id', 'url', 'title', 'text'],\n",
       "        num_rows: 1383531\n",
       "    })\n",
       "})"
      ]
     },
     "execution_count": 57,
     "metadata": {},
     "output_type": "execute_result"
    }
   ],
   "source": [
    "wiki"
   ]
  },
  {
   "cell_type": "code",
   "execution_count": 58,
   "metadata": {},
   "outputs": [
    {
     "data": {
      "text/plain": [
       "Dataset({\n",
       "    features: ['id', 'url', 'title', 'text'],\n",
       "    num_rows: 1383531\n",
       "})"
      ]
     },
     "execution_count": 58,
     "metadata": {},
     "output_type": "execute_result"
    }
   ],
   "source": [
    "wiki['train']"
   ]
  },
  {
   "cell_type": "code",
   "execution_count": 59,
   "metadata": {},
   "outputs": [],
   "source": [
    "# print(wiki['train'][0]['text'])"
   ]
  },
  {
   "cell_type": "code",
   "execution_count": 60,
   "metadata": {},
   "outputs": [],
   "source": [
    "wiki = wiki.map(lambda row: {'text': row['text'].split('。')[0]})"
   ]
  },
  {
   "cell_type": "code",
   "execution_count": 61,
   "metadata": {},
   "outputs": [
    {
     "name": "stdout",
     "output_type": "stream",
     "text": [
      "----------------------------------------------------------------------------------------------------\n",
      "アンパサンド（&, ）は、並立助詞「…と…」を意味する記号である\n",
      "----------------------------------------------------------------------------------------------------\n",
      "生物学（せいぶつがく、、）とは、生命現象を研究する、自然科学の一分野である\n",
      "----------------------------------------------------------------------------------------------------\n",
      "ゴーダチーズ（ , 、 ）は、オランダを代表するチーズ\n",
      "----------------------------------------------------------------------------------------------------\n",
      "ブラックミュージック () あるいは黒人音楽（こくじんおんがく）とは、アメリカの黒人発祥の音楽の総称を表す言葉\n",
      "----------------------------------------------------------------------------------------------------\n",
      "著作権（ちょさくけん、、コピーライト）は、作品を創作した者が有する権利である\n",
      "----------------------------------------------------------------------------------------------------\n",
      "『うる星やつら』（うるせいやつら、ラテン文字表記: Urusei Yatsura）は、高橋留美子による日本の漫画作品\n",
      "----------------------------------------------------------------------------------------------------\n",
      "高橋 しん（たかはし しん、本名：高橋 真（たかはし しん）、男性、1967年（昭和42年）9月8日 - ）は、日本の漫画家\n",
      "----------------------------------------------------------------------------------------------------\n",
      "フォスター、フォースター は、英語圏の姓 (Foster) 、またドイツ語圏の姓 (Forster)\n",
      "----------------------------------------------------------------------------------------------------\n",
      "テレビ番組（テレビばんぐみ）は、テレビジョン放送によって送られるコンテンツ（番組）の総称のことである\n",
      "----------------------------------------------------------------------------------------------------\n",
      "あずま きよひこ（本名：東 清彦、1968年5月27日 - ）は、日本の漫画家\n"
     ]
    }
   ],
   "source": [
    "for i in range(10):\n",
    "    print(\"-\"*100)\n",
    "    print(wiki['train'][i]['text'])"
   ]
  },
  {
   "cell_type": "code",
   "execution_count": 62,
   "metadata": {},
   "outputs": [],
   "source": [
    "# データセットの一部を抽出\n",
    "#wiki_train = wiki['train']\n",
    "wiki_train = wiki['train'].select(range(100))"
   ]
  },
  {
   "cell_type": "markdown",
   "metadata": {},
   "source": [
    "# 文の埋め込みを計算して保存"
   ]
  },
  {
   "cell_type": "code",
   "execution_count": 63,
   "metadata": {},
   "outputs": [
    {
     "data": {
      "application/vnd.jupyter.widget-view+json": {
       "model_id": "ba3084264dfb49f39afaeb87f0eef8bc",
       "version_major": 2,
       "version_minor": 0
      },
      "text/plain": [
       "Map:   0%|          | 0/100 [00:00<?, ? examples/s]"
      ]
     },
     "metadata": {},
     "output_type": "display_data"
    }
   ],
   "source": [
    "# 段落データのすべての事例に埋め込みを付与\n",
    "wiki_train = wiki_train.map(\n",
    "    lambda data: {\"embeddings\": model.encode(data['text']) },\n",
    "    batch_size=256,\n",
    "    batched=True,\n",
    ")  \n"
   ]
  },
  {
   "cell_type": "code",
   "execution_count": 64,
   "metadata": {},
   "outputs": [
    {
     "data": {
      "application/vnd.jupyter.widget-view+json": {
       "model_id": "d5ca5832a0bd49bdb98a82c45e815e7e",
       "version_major": 2,
       "version_minor": 0
      },
      "text/plain": [
       "Saving the dataset (0/1 shards):   0%|          | 0/100 [00:00<?, ? examples/s]"
      ]
     },
     "metadata": {},
     "output_type": "display_data"
    }
   ],
   "source": [
    "wiki_train.save_to_disk(\"embedded\")"
   ]
  },
  {
   "cell_type": "markdown",
   "metadata": {},
   "source": [
    "# Faissの利用"
   ]
  },
  {
   "cell_type": "code",
   "execution_count": 2,
   "metadata": {},
   "outputs": [],
   "source": [
    "wiki_train = load_from_disk(\"save/embedded_paragraphs\")"
   ]
  },
  {
   "cell_type": "code",
   "execution_count": 5,
   "metadata": {},
   "outputs": [
    {
     "data": {
      "application/vnd.jupyter.widget-view+json": {
       "model_id": "23392dcbbc9944168bcd8c09aa46d339",
       "version_major": 2,
       "version_minor": 0
      },
      "text/plain": [
       "  0%|          | 0/1384 [00:00<?, ?it/s]"
      ]
     },
     "metadata": {},
     "output_type": "display_data"
    },
    {
     "data": {
      "text/plain": [
       "Dataset({\n",
       "    features: ['id', 'url', 'title', 'text', 'embeddings'],\n",
       "    num_rows: 1383531\n",
       "})"
      ]
     },
     "execution_count": 5,
     "metadata": {},
     "output_type": "execute_result"
    }
   ],
   "source": [
    "embedding_dim = model.get_sentence_embedding_dimension()\n",
    "index = faiss.IndexFlatIP(embedding_dim)\n",
    "wiki_train.add_faiss_index(\"embeddings\", custom_index=index)"
   ]
  },
  {
   "cell_type": "code",
   "execution_count": 12,
   "metadata": {},
   "outputs": [
    {
     "name": "stdout",
     "output_type": "stream",
     "text": [
      "type : <class 'numpy.ndarray'>\n",
      "type : <class 'dict'>\n",
      "retrieved_examples.keys() : dict_keys(['id', 'url', 'title', 'text', 'embeddings'])\n"
     ]
    }
   ],
   "source": [
    "query = \"スマホを新しいものに変えようと思っているんだ\"\n",
    "\n",
    "scores, retrieved_examples = wiki_train.get_nearest_examples(\n",
    "    \"embeddings\", model.encode(query), k=20\n",
    ")\n",
    "print(f'type : {type(scores)}')\n",
    "print(f'type : {type(retrieved_examples)}')\n",
    "print(f'retrieved_examples.keys() : {retrieved_examples.keys()}')"
   ]
  },
  {
   "cell_type": "code",
   "execution_count": 13,
   "metadata": {},
   "outputs": [
    {
     "name": "stdout",
     "output_type": "stream",
     "text": [
      "score    | text\n",
      "--------------------------------------------------------------------------------------------------------------------------------------------------------------------------------------------------------\n",
      "258.020  | GreenphoneとはTrolltechがGUIとほとんどフリーやオープンソースソフトウェアを使っているLinuxを組み込んだアプリケーションプラットフォームであるQtopia Phone Editionで開発したスマートフォンである\n",
      "256.336  | スマホ同期 (英: Your Phone)は、AndroidやiOSのデバイスをWindows 10デバイスに接続するために、Microsoft Windows 10用に開発されたアプリ\n",
      "254.406  | iPhone（アイフォーン）は、Appleが設計・販売しているスマートフォン\n",
      "251.605  | 『異世界はスマートフォンとともに\n",
      "251.080  | Openmoko LinuxとはOpenmokoプロジェクトにより開発が進められているスマートフォン向けのOSである\n",
      "248.402  | Google カメラとは、Googleによって開発された、モバイル端末のGoogle Pixel向けのカメラアプリ\n",
      "248.029  | ガラホとは、スマートフォン用のOSや半導体部品を転用して開発された、日本国内向けフィーチャー・フォン（いわゆるガラパゴスケータイ）の一種を指す新造語\n",
      "247.353  | iPhone 11（アイフォーン イレブン）は、Appleのスマートフォン\n",
      "246.656  | BlackBerry Z10とはBlackBerry（旧名リサーチ・イン・モーション）が開発したタッチパネル型スマートフォンである\n",
      "246.646  | スマートフォン（）は、パーソナルコンピュータなみの機能をもたせた携帯電話やPHSの総称\n",
      "246.552  | iPhone（アイフォーン）は、Appleが販売したスマートフォンである\n",
      "246.410  | iPhone SE（アイフォーン エスイー）は、Appleが開発・販売したスマートフォン\n",
      "245.678  | iPhone 3Gは、Appleが開発・販売していたスマートフォンである\n",
      "244.624  | iPhone - Appleのスマートフォンシリーズ\n",
      "243.902  | Pixelは、アメリカのGoogleによって開発されたスマートフォンである\n",
      "243.737  | KATANA 01（かたな ぜろいち）は、プラスワン・マーケティングによって開発され、FREETELブランドにより販売されるWindows 10 Mobile搭載スマートフォンである\n",
      "243.524  | Nexus 6P（ネクサス シックスピー）は、GoogleとHuaweiによって共同開発された、Androidを搭載したスマートフォンである\n",
      "243.203  | iPhone 5c（アイフォーン ファイブシー）は、Appleが開発したタッチスクリーンベースのスマートフォンである\n",
      "242.504  | 『すごいスマホ』は、原作：冨澤浩気、作画：肥田野健太郎による日本の漫画作品\n",
      "242.292  | Mi Note 10 / 10 ProはXiaomiが開発し、2019年12月9日に国内発表、同月16日に発売したAndroid搭載スマートフォンである\n"
     ]
    }
   ],
   "source": [
    "texts = retrieved_examples[\"text\"]\n",
    "print(\"score    | text\")\n",
    "print(\"-\"*200)\n",
    "for score, text in zip(scores, texts):\n",
    "    print(f'{score:.3f}  | {text}')"
   ]
  },
  {
   "cell_type": "code",
   "execution_count": null,
   "metadata": {},
   "outputs": [],
   "source": []
  }
 ],
 "metadata": {
  "kernelspec": {
   "display_name": "NLP",
   "language": "python",
   "name": "python3"
  },
  "language_info": {
   "codemirror_mode": {
    "name": "ipython",
    "version": 3
   },
   "file_extension": ".py",
   "mimetype": "text/x-python",
   "name": "python",
   "nbconvert_exporter": "python",
   "pygments_lexer": "ipython3",
   "version": "3.11.4"
  }
 },
 "nbformat": 4,
 "nbformat_minor": 2
}
